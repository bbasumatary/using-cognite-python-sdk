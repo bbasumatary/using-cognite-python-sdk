{
 "cells": [
  {
   "cell_type": "markdown",
   "metadata": {
    "id": "IJ91Pu4l64QF"
   },
   "source": [
    "# Copyright 2022 Cognite AS\n",
    "## Authentication\n",
    "\n",
    "- Instatiating a `CogniteClient` can be done using several different options:\n",
    "  - Interactive login (send you to a browser to log in)\n",
    "  - Using device code (prints out a code you need to use to log in elsewhere)\n",
    "  - Using client credentials (pre-shared secret)\n",
    "- Checking the login status"
   ]
  },
  {
   "cell_type": "markdown",
   "metadata": {
    "id": "d-9CqNEWaKBL"
   },
   "source": [
    "You can authenticate the Python SDK with Azure AD by using a token retrieved when a user authenticates or with a static client secret for long-running jobs like extractors or calculations."
   ]
  },
  {
   "cell_type": "markdown",
   "metadata": {
    "id": "LhLXvKoEeRcW"
   },
   "source": [
    "### Prerequisites"
   ]
  },
  {
   "cell_type": "markdown",
   "metadata": {
    "id": "2fcvzMnTen-Q"
   },
   "source": [
    "* You need to specify the values for the following configuration parameters:\n",
    " * `Tenant ID` - the ID of the Azure AD tenant where the user is registered.\n",
    " * `Client ID` - the ID of the application in Azure AD.\n",
    " * `Cluster` - the cluster where your CDF project is installed. For example, `api` or `westeurope-1`.\n",
    " * `CDF project` - the name of the CDF project, typically the name of your company."
   ]
  },
  {
   "cell_type": "markdown",
   "metadata": {
    "id": "wMYAkvE2fd4A"
   },
   "source": [
    "If you don't know which values to use for these variables, contact your CDF administrator or Cognite Support."
   ]
  },
  {
   "cell_type": "markdown",
   "metadata": {
    "id": "WiWDuLtLfy2l"
   },
   "source": [
    "You can directly set the values for these parameters here. Another option is to read them from environment variables or from file."
   ]
  },
  {
   "cell_type": "code",
   "execution_count": null,
   "metadata": {
    "id": "UqIYl20WemoT"
   },
   "outputs": [],
   "source": [
    "TENANT_ID = \"48d5043c-cf70-4c49-881c-c638f5796997\"\n",
    "CLIENT_ID = \"fab52bb5-9de2-4f9e-aefa-712da4b5fe00\"\n",
    "CDF_CLUSTER = \"westeurope-1\"\n",
    "COGNITE_PROJECT = \"ds-basics\""
   ]
  },
  {
   "cell_type": "markdown",
   "metadata": {
    "id": "s48bKQb-hnBE"
   },
   "source": [
    "Also set the following derived variables, which will be used for obtaining token"
   ]
  },
  {
   "cell_type": "code",
   "execution_count": null,
   "metadata": {
    "id": "u8dEgCwWhrWr"
   },
   "outputs": [],
   "source": [
    "BASE_URL = f\"https://{CDF_CLUSTER}.cognitedata.com\"\n",
    "SCOPES = [f\"https://{CDF_CLUSTER}.cognitedata.com/.default\"]\n",
    "TOKEN_URL = f\"https://login.microsoftonline.com/{TENANT_ID}/oauth2/v2.0/token\"\n",
    "AUTHORITY_URL = f\"https://login.microsoftonline.com/{TENANT_ID}\""
   ]
  },
  {
   "cell_type": "markdown",
   "metadata": {
    "id": "6icD8Qewd4ua"
   },
   "source": [
    "### Authenticate to CDF\n",
    "\n",
    "#### Interactive Login\n",
    "You can get the token by letting the user sign in interactively via a browser and use the authenticate with interactive login and token refresh flow to access CDF when you're running short-term scripts or using Jupyter."
   ]
  },
  {
   "cell_type": "code",
   "execution_count": null,
   "metadata": {
    "id": "-WNZiPG_hDwB"
   },
   "outputs": [],
   "source": [
    "from cognite.client import CogniteClient, ClientConfig\n",
    "from cognite.client.credentials import OAuthInteractive"
   ]
  },
  {
   "cell_type": "code",
   "execution_count": null,
   "metadata": {},
   "outputs": [],
   "source": [
    "interactive_creds = OAuthInteractive(\n",
    "    authority_url=AUTHORITY_URL,\n",
    "    client_id=CLIENT_ID,\n",
    "    scopes=SCOPES,\n",
    ")\n",
    "cnf = ClientConfig(\n",
    "    client_name=\"Python SDK course taker\",\n",
    "    project=COGNITE_PROJECT,\n",
    "    credentials=interactive_creds,\n",
    "    base_url=BASE_URL,\n",
    ")"
   ]
  },
  {
   "cell_type": "code",
   "execution_count": null,
   "metadata": {},
   "outputs": [],
   "source": [
    "client = CogniteClient(cnf)"
   ]
  },
  {
   "cell_type": "markdown",
   "metadata": {},
   "source": [
    "We can now check out which CDF projects we have access to:"
   ]
  },
  {
   "cell_type": "code",
   "execution_count": null,
   "metadata": {},
   "outputs": [],
   "source": [
    "token_inspect = client.iam.token.inspect()\n",
    "\n",
    "[proj.url_name for proj in token_inspect.projects]"
   ]
  },
  {
   "cell_type": "markdown",
   "metadata": {
    "id": "SeukLHOEsZv2"
   },
   "source": [
    "### Authenticate with client secret"
   ]
  },
  {
   "cell_type": "code",
   "execution_count": null,
   "metadata": {},
   "outputs": [],
   "source": [
    "from cognite.client.credentials import OAuthClientCredentials"
   ]
  },
  {
   "cell_type": "markdown",
   "metadata": {},
   "source": [
    "The secret (called a client secret) you got from the course admins can be used to authenticate without being sent off to the browser to login on your own.\n",
    "\n",
    "Store it in your preferred secret manager, for example LastPass (or similar).\n",
    "\n",
    "In this notebook, we will provide it by using the python function `getpass`. \n",
    "\n",
    "**Note**: This is _not_ how one would do it for code running in production. Then it is typically read from an environment variable or from a file."
   ]
  },
  {
   "cell_type": "code",
   "execution_count": null,
   "metadata": {
    "scrolled": true
   },
   "outputs": [],
   "source": [
    "from getpass import getpass\n",
    "CLIENT_SECRET = getpass(\"Enter the Client Secret: \")"
   ]
  },
  {
   "cell_type": "code",
   "execution_count": null,
   "metadata": {
    "id": "0JAPsS7Ts8fZ"
   },
   "outputs": [],
   "source": [
    "client_creds = OAuthClientCredentials(\n",
    "    token_url=TOKEN_URL, \n",
    "    client_id=CLIENT_ID, \n",
    "    scopes=SCOPES, \n",
    "    client_secret=CLIENT_SECRET\n",
    ")\n",
    "cnf = ClientConfig(\n",
    "    client_name=\"Python SDK course taker\",\n",
    "    project=COGNITE_PROJECT,\n",
    "    credentials=client_creds,\n",
    ")"
   ]
  },
  {
   "cell_type": "code",
   "execution_count": null,
   "metadata": {},
   "outputs": [],
   "source": [
    "client = CogniteClient(cnf)"
   ]
  },
  {
   "cell_type": "markdown",
   "metadata": {
    "id": "wFuq1vmBuWfw"
   },
   "source": [
    "As previously, we check if we are authenticated by calling the `/token/inspect` endpoint:"
   ]
  },
  {
   "cell_type": "code",
   "execution_count": null,
   "metadata": {
    "id": "TFrWgdKxuaQu"
   },
   "outputs": [],
   "source": [
    "token_inspect = client.iam.token.inspect()\n",
    "\n",
    "[proj.url_name for proj in token_inspect.projects]"
   ]
  },
  {
   "cell_type": "markdown",
   "metadata": {},
   "source": [
    "### Saving the Authentication Code in Script for Later Usage"
   ]
  },
  {
   "cell_type": "markdown",
   "metadata": {},
   "source": [
    "Let's define the function for each authentication method."
   ]
  },
  {
   "cell_type": "code",
   "execution_count": null,
   "metadata": {},
   "outputs": [],
   "source": [
    "def create_cognite_client():\n",
    "    \"\"\"Function to create the CogniteClient, using interactive login flow\"\"\"\n",
    "    return CogniteClient(\n",
    "        ClientConfig(\n",
    "            client_name=\"Python SDK course taker\",\n",
    "            project=COGNITE_PROJECT,\n",
    "            base_url=BASE_URL,\n",
    "            credentials=OAuthInteractive(\n",
    "                authority_url=AUTHORITY_URL,\n",
    "                client_id=CLIENT_ID,\n",
    "                scopes=SCOPES,\n",
    "            ),\n",
    "        )\n",
    "    )"
   ]
  },
  {
   "cell_type": "markdown",
   "metadata": {},
   "source": [
    "#### With this function created, going forward in this course, we can easily get the client :"
   ]
  },
  {
   "cell_type": "code",
   "execution_count": null,
   "metadata": {},
   "outputs": [],
   "source": [
    "client = create_cognite_client()"
   ]
  }
 ],
 "metadata": {
  "kernelspec": {
   "display_name": "Python 3 (ipykernel)",
   "language": "python",
   "name": "python3"
  },
  "language_info": {
   "codemirror_mode": {
    "name": "ipython",
    "version": 3
   },
   "file_extension": ".py",
   "mimetype": "text/x-python",
   "name": "python",
   "nbconvert_exporter": "python",
   "pygments_lexer": "ipython3",
   "version": "3.8.13"
  },
  "vscode": {
   "interpreter": {
    "hash": "5083cd52a7b91cc77c57b3773f38d15c6d06c52a8be2507d99227cb09ce09f92"
   }
  }
 },
 "nbformat": 4,
 "nbformat_minor": 2
}
